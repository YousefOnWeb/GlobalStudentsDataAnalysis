{
 "cells": [
  {
   "cell_type": "markdown",
   "metadata": {},
   "source": [
    "# Programme for International Student Assessment | [PISA](https://www.oecd.org/pisa/) <br>2012 Survey Results Exploration\n",
    "\n",
    "## by Yousef Abdrabo<br>\n",
    "\n",
    "# Preliminary Wrangling\n",
    "\n",
    "> ### Introduction\n",
    "> The Programme for International Student Assessment is a worldwide study by the Organisation for Economic Co-operation and Development ([OECD](https://www.oecd.org/)) intended to evaluate educational systems by measuring 15-year-old school pupils' scholastic performance on mathematics, science, and reading in form of a survey, this exploration makes use of the dataset of the survey's results to gather and answer some related questions."
   ]
  },
  {
   "cell_type": "markdown",
   "metadata": {},
   "source": [
    "### Preparing the Environment"
   ]
  },
  {
   "cell_type": "code",
   "execution_count": 1,
   "metadata": {},
   "outputs": [],
   "source": [
    "# import all packages and set plots to be embedded inline\n",
    "import os\n",
    "import numpy as np\n",
    "import pandas as pd\n",
    "import matplotlib.pyplot as plt\n",
    "import seaborn as sns\n",
    "\n",
    "%matplotlib inline"
   ]
  },
  {
   "cell_type": "markdown",
   "metadata": {},
   "source": [
    "### Loading Dataset and Obtaining Basic Info"
   ]
  },
  {
   "cell_type": "code",
   "execution_count": 2,
   "metadata": {},
   "outputs": [
    {
     "name": "stdout",
     "output_type": "stream",
     "text": [
      "\u001b[0m\u001b[34;42mImages\u001b[0m/             \u001b[01;32mpisa2012_Wrangled.csv\u001b[0m*           \u001b[01;32mREADME.md\u001b[0m*\r\n",
      "\u001b[01;32moutput_toggle.tpl\u001b[0m*  \u001b[01;32mPISA_Results_Exploration.ipynb\u001b[0m*  \u001b[01;32mslide_deck.ipynb\u001b[0m*\r\n",
      "\u001b[01;32mpisa2012.csv\u001b[0m*       \u001b[01;32mPISA_Results_Wrangling.ipynb\u001b[0m*    \u001b[01;32mslide_deck.slides.html\u001b[0m*\r\n"
     ]
    }
   ],
   "source": [
    "ls"
   ]
  },
  {
   "cell_type": "code",
   "execution_count": 3,
   "metadata": {},
   "outputs": [],
   "source": [
    "df = pd.read_csv('pisa2012.csv', encoding='latin-1', low_memory=False)"
   ]
  },
  {
   "cell_type": "code",
   "execution_count": 4,
   "metadata": {},
   "outputs": [
    {
     "name": "stdout",
     "output_type": "stream",
     "text": [
      "2.8 Gigabytes\n"
     ]
    }
   ],
   "source": [
    "size = os.path.getsize('./pisa2012.csv')\n",
    "print(round(size/int(1e9),1), 'Gigabytes')\n",
    "del size"
   ]
  },
  {
   "cell_type": "code",
   "execution_count": 5,
   "metadata": {},
   "outputs": [
    {
     "data": {
      "text/plain": [
       "(485490, 636)"
      ]
     },
     "execution_count": 5,
     "metadata": {},
     "output_type": "execute_result"
    }
   ],
   "source": [
    "df.shape"
   ]
  },
  {
   "cell_type": "markdown",
   "metadata": {},
   "source": [
    "## Dataset Introductory Detailed Description\n",
    "### Dataset Structure\n",
    "\n",
    "> - **Data Form:** Tabular\n",
    ">   \n",
    "> - **Data Container:** CSV file\n",
    ">   \n",
    "> - **Size:** 2.8 Gigabytes\n",
    ">   \n",
    "> - **Columns:** 636\n",
    ">   \n",
    "> - **Rows:** 485490\n",
    ">   \n",
    "\n",
    "### Main Points of Interest in The Dataset:\n",
    "\n",
    "> **1.** Student's Diversity in Everyday-Experieneces<br>\n",
    "> **2.** Differences in different students' subjects of focus<br>\n",
    "> **3.** Student's family existance conditon<br>\n",
    "> **4.** Student's Integration and Satisfaction towards Education<br>\n",
    "> **5.** Age of starting education<br>\n",
    "> **6.** Student encouraged towards critical thinking or not<br>\n",
    "> **7.** Student teaching himself freely with his preffered techniques<br>\n",
    "> **8.** Student-teacher relation<br>\n",
    "> **9.** Student learning maths interactively and visually<br>\n",
    "> **10.** Student language<br>\n",
    "\n",
    "<hr>\n",
    "\n",
    "### Features in The Dataset Supporting the Investigation Into The Above Points of Interest:\n",
    "\n",
    "#### 1. Student's Diversity in Everyday-Experieneces:\n",
    "\n",
    "> - Student's distance between multiple experienced cultures (CULTDIST)\n",
    "> - Student plays chess? (column ST49Q06)\n",
    "> - Student familiar with computer programming? (column ST49Q07)\n",
    "> - Student has game console? (column IC01Q05)\n",
    "> - Student has internet connection (column IC01Q04)\n",
    "> - Student plays single player games out of school? (IC08Q01)\n",
    "> - Student uses email out of school? (IC08Q03)\n",
    "> - Student chats online? (IC08Q04)\n",
    "> - Student on social networks? (IC08Q05)\n",
    "> - Student browses internet for fun? (IC08Q06)\n",
    "> - Student reads news? (IC08Q07)\n",
    "> - Student obtains practical information from the internet? (IC08Q08)\n",
    "> - Student streams music? (IC08Q09)\n",
    "> - Student uploads content? (IC08Q11)\n",
    "> - Student classifies as using ICT for entertainment? (ENTUSE)\n",
    "> - Student Student limits use of computers as a tool for only schooling? (ICTATTNEG)\n",
    "> - Student has ICT availability at home? (ICTHOME)\n",
    "> - Student owns a computer? (ST26Q04)\n",
    "\n",
    "#### 2. Differences in Different Students' Subjects of Focus\n",
    "\n",
    "> - Student age (AGE)\n",
    "> - Student gender (ST04Q01)\n",
    "> - Student into maths or language courses after school? (ST48Q01)\n",
    "> - Student into maths or science courses after school? (ST48Q02)\n",
    "> - Student studies harder in maths vs language? (ST48Q03)\n",
    "> - Student takes more maths or science classes? (ST48Q04)\n",
    "> - Student into career of maths vs science? (ST48Q05)\n",
    "> - Student open for problem solving? (OPENPS)\n",
    "\n",
    "#### 3. Student's Family Existance Conditon\n",
    "\n",
    "> - Student mother at home? (ST11Q01)\n",
    "> - Student father at home? (ST11Q02)\n",
    "> - Student brothers at home? (ST11Q03)\n",
    "> - Student sisters at home? (ST11Q04)\n",
    "> - Student grandparents at home? (ST11Q05)\n",
    "\n",
    "#### 4. Student's Integration and Satisfaction towards Education\n",
    "\n",
    "> - Student claims performing poorly regardless? (ST43Q06)\n",
    "> - Student claims teacher not explaining well? (ST44Q03)\n",
    "> - Student claims material is too hard? (ST44Q05)\n",
    "> - Student claims teacher didn't get students interested? (ST44Q07)\n",
    "> - Student pays attention in classes? (ST46Q06)\n",
    "> - Student claims teacher provides extra help? (ST77Q02)\n",
    "> - Student claims teacher provides help in general? (ST77Q04)\n",
    "\n",
    "#### 5. Age of starting education\n",
    "\n",
    "> - Student age at Grade ISCED 1 (primary education) (ST06Q01)\n",
    "\n",
    "#### 6. Student Encouraged Towards Critical Thinking or Not\n",
    "\n",
    "> - Student's teacher encourages expresssing opinions? (ST77Q06)\n",
    "> - Student's teacher encourages reasoning? (ST79Q02)\n",
    "> - Student's teacher gives problems requiring thinking? (ST80Q04)\n",
    "> - Studen't teacher asks to use own procedures? (ST80Q05)\n",
    "> - Studen't teacher presents problems with no abvious solutions (ST80Q06)\n",
    "\n",
    "#### 7. Student Teaches Himself Freely with His Preffered Techniques\n",
    "\n",
    "> - Out-of-school computer study time (ST57Q06)\n",
    "\n",
    "#### 8. Student-teacher Relation\n",
    "\n",
    "> - Student get along with teachers (ST86Q01)\n",
    "> - Student's teacher is interested (ST86Q02)\n",
    "> - Student's teacher listens to questions (ST86Q03)\n",
    "> - Student's teacher gives help (ST86Q04)\n",
    "> - Student's teacher treats students fair (ST86Q05)\n",
    "\n",
    "#### 9. Student Learning Maths Interactively and Visually\n",
    "\n",
    "> - Student draws graphs? (IC11Q01)\n",
    "> - Student practices? (IC11Q02)\n",
    "> - Student experiences geometric figures? (IC11Q03)\n",
    "> - Student experiences spreadsheets? (IC11Q04)\n",
    "> - Student experiences histograms? (IC11Q06)\n",
    "> - Student changes in graphs? (IC11Q07)\n",
    "\n",
    "#### 10. Student Language\n",
    "\n",
    "> - Student's language at home (LANGN)\n",
    "<hr>\n",
    "\n",
    "### Features Used Only to Assist Wrangling\n",
    "\n",
    "#### To Help Specify Duplicates and Uniques\n",
    "\n",
    "> - Student Identification Code (STIDSTD)\n",
    "> - School Identification Code (SCHOOLID)"
   ]
  },
  {
   "cell_type": "markdown",
   "metadata": {},
   "source": [
    "## Wrangling Final Considerations\n",
    "### From the Above Detailed Description\n",
    "* **The columns in the dataset to be made use of in the exploration are the following:**<br>\"CULTDIST\", \"ST49Q06\", \"ST49Q07\", \"IC01Q05\", \"IC01Q04\", \"IC08Q01\", \"IC08Q02\", \"IC08Q03\", \"IC08Q04\", \"IC08Q05\", \"IC08Q06\", \"IC08Q07\", \"IC08Q08\", \"IC08Q09\", \"IC08Q11\", \"ENTUSE\", \"ICTATTNEG\", \"ICTHOME\", \"ST26Q04\", \"AGE\", \"ST04Q01\", \"ST48Q01\", \"ST48Q02\", \"ST48Q03\", \"ST48Q04\", \"ST48Q05\", \"OPENPS\", \"ST11Q01\", \"ST11Q02\", \"ST11Q03\", \"ST11Q04\", \"ST11Q05\", \"ST43Q06\", \"ST44Q03\", \"ST44Q05\", \"ST44Q07\", \"ST46Q06\", \"ST77Q02\", \"ST77Q04\", \"ST06Q01\", \"ST77Q06\", \"ST79Q02\", \"ST80Q04\", \"ST80Q05\", \"ST80Q06\", \"ST57Q06\", \"ST86Q01\", \"ST86Q02\", \"ST86Q03\", \"ST86Q04\", \"ST86Q05\", \"IC11Q01\", \"IC11Q02\", \"IC11Q03\", \"IC11Q04\", \"IC11Q06\", \"IC11Q07\", \"LANGN\", \"SCHOOLID\", \"STIDSTD\" **and so, any other column will be removed to save resources.**\n",
    "* Even the above columns themselves will be **reduced** and **used to get insights** at the same time by using every related group of columns telling very similar things to construct new unified column speaking for them (e.g. *Student use of ICT for entertainment* and *Student ownership of a game console* etc.), this will save computer resources and make the data more organized without sacrificing any of it.\n",
    "* Remaining columns will be all renamed to have descriptive labels instead of using code-names\n",
    "\n",
    "### Further Considerations\n",
    "* Data places with no value/s (NaNs) will be handled\n",
    "* Any duplicate rows will be removed leaving only unique rows\n",
    "<hr>"
   ]
  },
  {
   "cell_type": "markdown",
   "metadata": {},
   "source": [
    "#### Removing Unused Columns"
   ]
  },
  {
   "cell_type": "code",
   "execution_count": 6,
   "metadata": {},
   "outputs": [
    {
     "name": "stdout",
     "output_type": "stream",
     "text": [
      "Unused columns has been removed successfully\n"
     ]
    }
   ],
   "source": [
    "usedColumns = [\"CULTDIST\", \"ST49Q06\", \"ST49Q07\", \"IC01Q05\", \"IC01Q04\", \"IC08Q01\", \"IC08Q02\", \"IC08Q03\", \"IC08Q04\", \"IC08Q05\", \"IC08Q06\", \"IC08Q07\", \"IC08Q08\", \"IC08Q09\", \"IC08Q11\", \"ENTUSE\", \"ICTATTNEG\", \"ICTHOME\", \"ST26Q04\", \"AGE\", \"ST04Q01\", \"ST48Q01\", \"ST48Q02\", \"ST48Q03\", \"ST48Q04\", \"ST48Q05\", \"OPENPS\", \"ST11Q01\", \"ST11Q02\", \"ST11Q03\", \"ST11Q04\", \"ST11Q05\", \"ST43Q06\", \"ST44Q03\", \"ST44Q05\", \"ST44Q07\", \"ST46Q06\", \"ST77Q02\", \"ST77Q04\", \"ST13Q01\", \"ST17Q01\", \"ST06Q01\", \"ST77Q06\", \"ST79Q02\", \"ST80Q04\", \"ST80Q05\", \"ST80Q06\", \"ST57Q06\", \"ST86Q01\", \"ST86Q02\", \"ST86Q03\", \"ST86Q04\", \"ST86Q05\", \"IC11Q01\", \"IC11Q02\", \"IC11Q03\", \"IC11Q04\", \"IC11Q06\", \"IC11Q07\", \"LANGN\", \"STIDSTD\", \"SCHOOLID\"]\n",
    "unusedColumns = list()\n",
    "for column in df.columns:\n",
    "    if(column not in usedColumns):\n",
    "        unusedColumns.append(column)\n",
    "df.drop(unusedColumns, axis = \"columns\", inplace=True)\n",
    "if(len(usedColumns) == len(df.columns)):\n",
    "    print('Unused columns has been removed successfully')"
   ]
  },
  {
   "cell_type": "markdown",
   "metadata": {},
   "source": [
    "#### Removing Duplicates in Rows"
   ]
  },
  {
   "cell_type": "code",
   "execution_count": 7,
   "metadata": {},
   "outputs": [
    {
     "name": "stdout",
     "output_type": "stream",
     "text": [
      "Shape before removal: (485490, 62)\n",
      "Shape after removal: (485488, 62)\n"
     ]
    }
   ],
   "source": [
    "print('Shape before removal:', df.shape)\n",
    "df.drop_duplicates(inplace=True)\n",
    "print('Shape after removal:', df.shape)"
   ]
  },
  {
   "cell_type": "markdown",
   "metadata": {},
   "source": [
    "#### Giving Columns Meaningful Names"
   ]
  },
  {
   "cell_type": "code",
   "execution_count": 8,
   "metadata": {},
   "outputs": [],
   "source": [
    "df.rename(columns={'CULTDIST': 'cultDist',\n",
    "                   'ST49Q06': 'playsChess',\n",
    "                   'ST49Q07': 'familairWCode',\n",
    "                   'IC01Q05': 'hasPS',\n",
    "                   'IC01Q04': 'hasInternet',\n",
    "                   'IC08Q01': 'playsSPGames',\n",
    "                   'IC08Q02': 'playsCOOP',\n",
    "                   'IC08Q03': 'usesEmail',\n",
    "                   'IC08Q04': 'chatsOnline',\n",
    "                   'IC08Q05': 'onFB',\n",
    "                   'IC08Q06': 'internetFun',\n",
    "                   'IC08Q07': 'readsNews',\n",
    "                   'IC08Q08': 'internetLearn',\n",
    "                   'IC08Q09': 'hasMusic',\n",
    "                   'IC08Q11': 'uploads',\n",
    "                   'ENTUSE': 'ICTForFun',\n",
    "                   'ICTATTNEG': 'UsesPCForEduOnly',\n",
    "                   'ICTHOME': 'ICTHome',\n",
    "                   'ST26Q04': 'hasPC',\n",
    "                   'AGE' : 'age',\n",
    "                   'ST04Q01': 'sex',\n",
    "                   'ST48Q01': 'mathsOrLangCourses',\n",
    "                   'ST48Q02': 'mathsOrSciCourses',\n",
    "                   'ST48Q03': 'studyMathsOrLang',\n",
    "                   'ST48Q04': 'studyMathsOrSci',\n",
    "                   'ST48Q05': 'mathsOrSciJob',\n",
    "                   'OPENPS': 'problemSolver',\n",
    "                   'ST11Q01': 'motherAtHome',\n",
    "                   'ST11Q02': 'fatherAtHome',\n",
    "                   'ST11Q03': 'brothersAtHome',\n",
    "                   'ST11Q04': 'sistersAtHome',\n",
    "                   'ST11Q05': 'granniesAtHomes',\n",
    "                   'ST43Q06': 'saysDoPoorlyRegardless',\n",
    "                   'ST44Q03': 'teacherNoExplain',\n",
    "                   'ST44Q05': 'saysMatsSoHard',\n",
    "                   'ST44Q07': 'saysTeacherNoMakingStudentInterested',\n",
    "                   'ST46Q06': 'paysAttInClass',\n",
    "                   'ST77Q02': 'saysTeacherGivesExtraHelp',\n",
    "                   'ST77Q04': 'saysTeacherGivesHelp',\n",
    "                   'ST06Q01': 'ageStartedEdu',\n",
    "                   'ST77Q06': 'teacherAllowsExpOpinion',\n",
    "                   'ST79Q02': 'teacherAllowsReasoning',\n",
    "                   'ST80Q04': 'teacherTrainsThinking',\n",
    "                   'ST80Q05': 'teacherAllowsOwnProcedures',\n",
    "                   'ST80Q06': 'teacherAllowsMultipleSolutions',\n",
    "                   'ST57Q06': 'studyOnPCOutSchoolTime',\n",
    "                   'ST86Q01': 'copeWithTeacher',\n",
    "                   'ST86Q02': 'teacherPaysInterest',\n",
    "                   'ST86Q03': 'teacherListen',\n",
    "                   'ST86Q04': 'teacherHelps',\n",
    "                   'ST86Q05': 'teacherIsFair',\n",
    "                   'IC11Q01': 'drawsGraphs',\n",
    "                   'IC11Q02': 'practices',\n",
    "                   'IC11Q03': 'experiencesFigures',\n",
    "                   'IC11Q04': 'experiencesSpSheets',\n",
    "                   'IC11Q06': 'experiencesHistograms',\n",
    "                   'IC11Q07': 'interactsGraphs',\n",
    "                   'LANGN' : 'langAtHome',\n",
    "                   'SCHOOLID': 'schoolID',\n",
    "                   'STIDSTD' : 'studentID'}, inplace=True)"
   ]
  },
  {
   "cell_type": "markdown",
   "metadata": {},
   "source": [
    "#### Removing Columns With Mostly No Data"
   ]
  },
  {
   "cell_type": "code",
   "execution_count": 9,
   "metadata": {},
   "outputs": [
    {
     "name": "stdout",
     "output_type": "stream",
     "text": [
      "No-data columns to be removed:\n",
      "'cultDist'\n",
      "---------------\n",
      "Removed successfully.\n"
     ]
    }
   ],
   "source": [
    "rows = df.shape[0]\n",
    "columnsBefore = df.shape[1]\n",
    "nanCountPerColumn = df.isna().sum().sort_values(ascending=False)\n",
    "nanPercentagePerColumn = round((nanCountPerColumn / rows) * 100)\n",
    "columnsWithNoData = list()\n",
    "for column in nanPercentagePerColumn.index:\n",
    "    if(nanPercentagePerColumn[column] > 50):\n",
    "        columnsWithNoData.append(column)\n",
    "print('No-data columns to be removed:')\n",
    "for column in columnsWithNoData:\n",
    "    print(\"'\"+column+\"'\")\n",
    "print(\"-\"*15)\n",
    "df.drop(columnsWithNoData, axis='columns', inplace=True)\n",
    "columnsAfter = df.shape[1]\n",
    "if(columnsBefore - columnsAfter == len(columnsWithNoData)):\n",
    "    print('Removed successfully.')"
   ]
  },
  {
   "cell_type": "markdown",
   "metadata": {},
   "source": [
    "### Transforming Text-based Data To Binary Based"
   ]
  },
  {
   "cell_type": "markdown",
   "metadata": {},
   "source": [
    "#### 'playsChess' Column"
   ]
  },
  {
   "cell_type": "code",
   "execution_count": 10,
   "metadata": {},
   "outputs": [
    {
     "data": {
      "text/plain": [
       "Never or rarely            183262\n",
       "Sometimes                   75817\n",
       "Often                       35141\n",
       "Always or almost always     18351\n",
       "Name: playsChess, dtype: int64"
      ]
     },
     "execution_count": 10,
     "metadata": {},
     "output_type": "execute_result"
    }
   ],
   "source": [
    "# getting an idea about the column data\n",
    "df['playsChess'].value_counts()"
   ]
  },
  {
   "cell_type": "code",
   "execution_count": 11,
   "metadata": {},
   "outputs": [
    {
     "data": {
      "text/plain": [
       "0.0    259079\n",
       "1.0     53492\n",
       "Name: playsChess, dtype: int64"
      ]
     },
     "execution_count": 11,
     "metadata": {},
     "output_type": "execute_result"
    }
   ],
   "source": [
    "# transforming data\n",
    "df['playsChess'] = df['playsChess'].map({'Never or rarely': 0,\n",
    "                                         'Sometimes': 0,\n",
    "                                         'Often': 1,\n",
    "                                        'Always or almost always': 1})\n",
    "df['playsChess'].value_counts()"
   ]
  },
  {
   "cell_type": "markdown",
   "metadata": {},
   "source": [
    "<hr>\n",
    "\n",
    "#### 'familairWCode' Column"
   ]
  },
  {
   "cell_type": "code",
   "execution_count": 12,
   "metadata": {},
   "outputs": [
    {
     "data": {
      "text/plain": [
       "Never or rarely            185257\n",
       "Sometimes                   68441\n",
       "Often                       37373\n",
       "Always or almost always     21354\n",
       "Name: familairWCode, dtype: int64"
      ]
     },
     "execution_count": 12,
     "metadata": {},
     "output_type": "execute_result"
    }
   ],
   "source": [
    "# getting an idea about the column data\n",
    "df['familairWCode'].value_counts()"
   ]
  },
  {
   "cell_type": "code",
   "execution_count": 13,
   "metadata": {},
   "outputs": [
    {
     "data": {
      "text/plain": [
       "0.0    253698\n",
       "1.0     58727\n",
       "Name: familairWCode, dtype: int64"
      ]
     },
     "execution_count": 13,
     "metadata": {},
     "output_type": "execute_result"
    }
   ],
   "source": [
    "# transforming data\n",
    "df['familairWCode'] = df['familairWCode'].map({'Never or rarely': 0,\n",
    "                                         'Sometimes': 0,\n",
    "                                         'Often': 1,\n",
    "                                        'Always or almost always': 1})\n",
    "df['familairWCode'].value_counts()"
   ]
  },
  {
   "cell_type": "markdown",
   "metadata": {},
   "source": [
    "<hr>\n",
    "\n",
    "#### 'hasPS' Column"
   ]
  },
  {
   "cell_type": "code",
   "execution_count": 14,
   "metadata": {},
   "outputs": [
    {
     "data": {
      "text/plain": [
       "Yes, and I use it          151730\n",
       "No                          98253\n",
       "Yes, but I dont use it     46604\n",
       "Name: hasPS, dtype: int64"
      ]
     },
     "execution_count": 14,
     "metadata": {},
     "output_type": "execute_result"
    }
   ],
   "source": [
    "# getting an idea about the column data\n",
    "df['hasPS'].value_counts()"
   ]
  },
  {
   "cell_type": "code",
   "execution_count": 15,
   "metadata": {},
   "outputs": [
    {
     "data": {
      "text/plain": [
       "1.0    151730\n",
       "0.0     98253\n",
       "Name: hasPS, dtype: int64"
      ]
     },
     "execution_count": 15,
     "metadata": {},
     "output_type": "execute_result"
    }
   ],
   "source": [
    "# transforming data\n",
    "df['hasPS'] = df['hasPS'].map({'No': 0,\n",
    "                               'Yes, and I use it': 1,\n",
    "                               'Yes, but I dont use it': 1})\n",
    "df['hasPS'].value_counts()"
   ]
  },
  {
   "cell_type": "markdown",
   "metadata": {},
   "source": [
    "<hr>\n",
    "\n",
    "#### 'hasInternet' Column"
   ]
  },
  {
   "cell_type": "code",
   "execution_count": 16,
   "metadata": {},
   "outputs": [
    {
     "data": {
      "text/plain": [
       "Yes, and I use it          259762\n",
       "No                          30161\n",
       "Yes, but I dont use it      7382\n",
       "Name: hasInternet, dtype: int64"
      ]
     },
     "execution_count": 16,
     "metadata": {},
     "output_type": "execute_result"
    }
   ],
   "source": [
    "# getting an idea about the column data\n",
    "df['hasInternet'].value_counts()"
   ]
  },
  {
   "cell_type": "code",
   "execution_count": 17,
   "metadata": {},
   "outputs": [
    {
     "data": {
      "text/plain": [
       "1.0    259762\n",
       "0.0     30161\n",
       "Name: hasInternet, dtype: int64"
      ]
     },
     "execution_count": 17,
     "metadata": {},
     "output_type": "execute_result"
    }
   ],
   "source": [
    "# transforming data\n",
    "df['hasInternet'] = df['hasInternet'].map({'No': 0,\n",
    "                               'Yes, and I use it': 1,\n",
    "                               'Yes, but I dont use it': 1})\n",
    "df['hasInternet'].value_counts()"
   ]
  },
  {
   "cell_type": "markdown",
   "metadata": {},
   "source": [
    "<hr>\n",
    "\n",
    "#### 'playsSPGames' Column"
   ]
  },
  {
   "cell_type": "code",
   "execution_count": 18,
   "metadata": {},
   "outputs": [
    {
     "data": {
      "text/plain": [
       "Never or hardly ever     123799\n",
       "Once or twice a month     57815\n",
       "Once or twice a week      57747\n",
       "Almost every day          33542\n",
       "Every day                 21220\n",
       "Name: playsSPGames, dtype: int64"
      ]
     },
     "execution_count": 18,
     "metadata": {},
     "output_type": "execute_result"
    }
   ],
   "source": [
    "# getting an idea about the column data\n",
    "df['playsSPGames'].value_counts()"
   ]
  },
  {
   "cell_type": "code",
   "execution_count": 19,
   "metadata": {},
   "outputs": [
    {
     "data": {
      "text/plain": [
       "1.0    170324\n",
       "0.0    123799\n",
       "Name: playsSPGames, dtype: int64"
      ]
     },
     "execution_count": 19,
     "metadata": {},
     "output_type": "execute_result"
    }
   ],
   "source": [
    "# transforming data\n",
    "df['playsSPGames'] = df['playsSPGames'].map({'Never or hardly ever': 0,\n",
    "                               'Once or twice a month': 1,\n",
    "                               'Once or twice a week': 1,\n",
    "                                'Almost every day': 1, \n",
    "                                            'Every day': 1})\n",
    "df['playsSPGames'].value_counts()"
   ]
  },
  {
   "cell_type": "markdown",
   "metadata": {},
   "source": [
    "<hr>\n",
    "\n",
    "#### 'playsCOOP' Column"
   ]
  },
  {
   "cell_type": "code",
   "execution_count": 20,
   "metadata": {},
   "outputs": [
    {
     "data": {
      "text/plain": [
       "Never or hardly ever     153713\n",
       "Once or twice a month     42180\n",
       "Once or twice a week      40127\n",
       "Almost every day          29563\n",
       "Every day                 28063\n",
       "Name: playsCOOP, dtype: int64"
      ]
     },
     "execution_count": 20,
     "metadata": {},
     "output_type": "execute_result"
    }
   ],
   "source": [
    "# getting an idea about the column data\n",
    "df['playsCOOP'].value_counts()"
   ]
  },
  {
   "cell_type": "code",
   "execution_count": 21,
   "metadata": {},
   "outputs": [
    {
     "data": {
      "text/plain": [
       "0.0    153713\n",
       "1.0    139933\n",
       "Name: playsCOOP, dtype: int64"
      ]
     },
     "execution_count": 21,
     "metadata": {},
     "output_type": "execute_result"
    }
   ],
   "source": [
    "# transforming data\n",
    "df['playsCOOP'] = df['playsCOOP'].map({'Never or hardly ever': 0,\n",
    "                               'Once or twice a month': 1,\n",
    "                               'Once or twice a week': 1,\n",
    "                                'Almost every day': 1, \n",
    "                                            'Every day': 1})\n",
    "df['playsCOOP'].value_counts()"
   ]
  },
  {
   "cell_type": "markdown",
   "metadata": {},
   "source": [
    "<hr>\n",
    "\n",
    "#### 'usesEmail' Column"
   ]
  },
  {
   "cell_type": "code",
   "execution_count": 22,
   "metadata": {},
   "outputs": [
    {
     "data": {
      "text/plain": [
       "Once or twice a week     75138\n",
       "Once or twice a month    61905\n",
       "Never or hardly ever     56927\n",
       "Almost every day         56510\n",
       "Every day                42682\n",
       "Name: usesEmail, dtype: int64"
      ]
     },
     "execution_count": 22,
     "metadata": {},
     "output_type": "execute_result"
    }
   ],
   "source": [
    "# getting an idea about the column data\n",
    "df['usesEmail'].value_counts()"
   ]
  },
  {
   "cell_type": "code",
   "execution_count": 23,
   "metadata": {},
   "outputs": [
    {
     "data": {
      "text/plain": [
       "1.0    236235\n",
       "0.0     56927\n",
       "Name: usesEmail, dtype: int64"
      ]
     },
     "execution_count": 23,
     "metadata": {},
     "output_type": "execute_result"
    }
   ],
   "source": [
    "# transforming data\n",
    "df['usesEmail'] = df['usesEmail'].map({'Never or hardly ever': 0,\n",
    "                               'Once or twice a month': 1,\n",
    "                               'Once or twice a week': 1,\n",
    "                                'Almost every day': 1, \n",
    "                                            'Every day': 1})\n",
    "df['usesEmail'].value_counts()"
   ]
  },
  {
   "cell_type": "markdown",
   "metadata": {},
   "source": [
    "<hr>\n",
    "\n",
    "#### 'chatsOnline' Column"
   ]
  },
  {
   "cell_type": "code",
   "execution_count": 24,
   "metadata": {},
   "outputs": [
    {
     "data": {
      "text/plain": [
       "Every day                86478\n",
       "Almost every day         66022\n",
       "Never or hardly ever     64694\n",
       "Once or twice a week     45904\n",
       "Once or twice a month    30151\n",
       "Name: chatsOnline, dtype: int64"
      ]
     },
     "execution_count": 24,
     "metadata": {},
     "output_type": "execute_result"
    }
   ],
   "source": [
    "# getting an idea about the column data\n",
    "df['chatsOnline'].value_counts()"
   ]
  },
  {
   "cell_type": "code",
   "execution_count": 25,
   "metadata": {},
   "outputs": [
    {
     "data": {
      "text/plain": [
       "1.0    228555\n",
       "0.0     64694\n",
       "Name: chatsOnline, dtype: int64"
      ]
     },
     "execution_count": 25,
     "metadata": {},
     "output_type": "execute_result"
    }
   ],
   "source": [
    "# transforming data\n",
    "df['chatsOnline'] = df['chatsOnline'].map({'Never or hardly ever': 0,\n",
    "                               'Once or twice a month': 1,\n",
    "                               'Once or twice a week': 1,\n",
    "                                'Almost every day': 1, \n",
    "                                            'Every day': 1})\n",
    "df['chatsOnline'].value_counts()"
   ]
  },
  {
   "cell_type": "markdown",
   "metadata": {},
   "source": [
    "<hr>\n",
    "\n",
    "#### 'onFB' Column"
   ]
  },
  {
   "cell_type": "code",
   "execution_count": 26,
   "metadata": {},
   "outputs": [
    {
     "data": {
      "text/plain": [
       "Every day                143204\n",
       "Almost every day          64272\n",
       "Never or hardly ever      38051\n",
       "Once or twice a week      32452\n",
       "Once or twice a month     15843\n",
       "Name: onFB, dtype: int64"
      ]
     },
     "execution_count": 26,
     "metadata": {},
     "output_type": "execute_result"
    }
   ],
   "source": [
    "# getting an idea about the column data\n",
    "df['onFB'].value_counts()"
   ]
  },
  {
   "cell_type": "code",
   "execution_count": 27,
   "metadata": {},
   "outputs": [
    {
     "data": {
      "text/plain": [
       "1.0    255771\n",
       "0.0     38051\n",
       "Name: onFB, dtype: int64"
      ]
     },
     "execution_count": 27,
     "metadata": {},
     "output_type": "execute_result"
    }
   ],
   "source": [
    "# transforming data\n",
    "df['onFB'] = df['onFB'].map({'Never or hardly ever': 0,\n",
    "                               'Once or twice a month': 1,\n",
    "                               'Once or twice a week': 1,\n",
    "                                'Almost every day': 1, \n",
    "                                            'Every day': 1})\n",
    "df['onFB'].value_counts()"
   ]
  },
  {
   "cell_type": "markdown",
   "metadata": {},
   "source": [
    "<hr>\n",
    "\n",
    "#### 'internetFun' Column"
   ]
  },
  {
   "cell_type": "code",
   "execution_count": 28,
   "metadata": {},
   "outputs": [
    {
     "data": {
      "text/plain": [
       "Every day                116715\n",
       "Almost every day          79288\n",
       "Once or twice a week      53339\n",
       "Never or hardly ever      22307\n",
       "Once or twice a month     22095\n",
       "Name: internetFun, dtype: int64"
      ]
     },
     "execution_count": 28,
     "metadata": {},
     "output_type": "execute_result"
    }
   ],
   "source": [
    "# getting an idea about the column data\n",
    "df['internetFun'].value_counts()"
   ]
  },
  {
   "cell_type": "code",
   "execution_count": 29,
   "metadata": {},
   "outputs": [
    {
     "data": {
      "text/plain": [
       "1.0    271437\n",
       "0.0     22307\n",
       "Name: internetFun, dtype: int64"
      ]
     },
     "execution_count": 29,
     "metadata": {},
     "output_type": "execute_result"
    }
   ],
   "source": [
    "# transforming data\n",
    "df['internetFun'] = df['internetFun'].map({'Never or hardly ever': 0,\n",
    "                               'Once or twice a month': 1,\n",
    "                               'Once or twice a week': 1,\n",
    "                                'Almost every day': 1, \n",
    "                                            'Every day': 1})\n",
    "df['internetFun'].value_counts()"
   ]
  },
  {
   "cell_type": "markdown",
   "metadata": {},
   "source": [
    "<hr>\n",
    "\n",
    "#### 'readsNews' Column"
   ]
  },
  {
   "cell_type": "code",
   "execution_count": 30,
   "metadata": {},
   "outputs": [
    {
     "data": {
      "text/plain": [
       "Never or hardly ever     68524\n",
       "Once or twice a week     68439\n",
       "Almost every day         56580\n",
       "Once or twice a month    50995\n",
       "Every day                49032\n",
       "Name: readsNews, dtype: int64"
      ]
     },
     "execution_count": 30,
     "metadata": {},
     "output_type": "execute_result"
    }
   ],
   "source": [
    "# getting an idea about the column data\n",
    "df['readsNews'].value_counts()"
   ]
  },
  {
   "cell_type": "code",
   "execution_count": 31,
   "metadata": {},
   "outputs": [
    {
     "data": {
      "text/plain": [
       "1.0    225046\n",
       "0.0     68524\n",
       "Name: readsNews, dtype: int64"
      ]
     },
     "execution_count": 31,
     "metadata": {},
     "output_type": "execute_result"
    }
   ],
   "source": [
    "# transforming data\n",
    "df['readsNews'] = df['readsNews'].map({'Never or hardly ever': 0,\n",
    "                               'Once or twice a month': 1,\n",
    "                               'Once or twice a week': 1,\n",
    "                                'Almost every day': 1, \n",
    "                                            'Every day': 1})\n",
    "df['readsNews'].value_counts()"
   ]
  },
  {
   "cell_type": "markdown",
   "metadata": {},
   "source": [
    "<hr>\n",
    "\n",
    "#### 'internetLearn' Column"
   ]
  },
  {
   "cell_type": "code",
   "execution_count": 32,
   "metadata": {},
   "outputs": [
    {
     "data": {
      "text/plain": [
       "Once or twice a week     87419\n",
       "Almost every day         60668\n",
       "Once or twice a month    57380\n",
       "Never or hardly ever     48274\n",
       "Every day                39312\n",
       "Name: internetLearn, dtype: int64"
      ]
     },
     "execution_count": 32,
     "metadata": {},
     "output_type": "execute_result"
    }
   ],
   "source": [
    "# getting an idea about the column data\n",
    "df['internetLearn'].value_counts()"
   ]
  },
  {
   "cell_type": "code",
   "execution_count": 33,
   "metadata": {},
   "outputs": [
    {
     "data": {
      "text/plain": [
       "1.0    244779\n",
       "0.0     48274\n",
       "Name: internetLearn, dtype: int64"
      ]
     },
     "execution_count": 33,
     "metadata": {},
     "output_type": "execute_result"
    }
   ],
   "source": [
    "# transforming data\n",
    "df['internetLearn'] = df['internetLearn'].map({'Never or hardly ever': 0,\n",
    "                               'Once or twice a month': 1,\n",
    "                               'Once or twice a week': 1,\n",
    "                                'Almost every day': 1, \n",
    "                                            'Every day': 1})\n",
    "df['internetLearn'].value_counts()"
   ]
  },
  {
   "cell_type": "markdown",
   "metadata": {},
   "source": [
    "<hr>\n",
    "\n",
    "#### 'hasMusic' Column"
   ]
  },
  {
   "cell_type": "code",
   "execution_count": 34,
   "metadata": {},
   "outputs": [
    {
     "data": {
      "text/plain": [
       "Every day                71417\n",
       "Once or twice a week     67534\n",
       "Almost every day         67300\n",
       "Once or twice a month    45129\n",
       "Never or hardly ever     42116\n",
       "Name: hasMusic, dtype: int64"
      ]
     },
     "execution_count": 34,
     "metadata": {},
     "output_type": "execute_result"
    }
   ],
   "source": [
    "# getting an idea about the column data\n",
    "df['hasMusic'].value_counts()"
   ]
  },
  {
   "cell_type": "code",
   "execution_count": 35,
   "metadata": {},
   "outputs": [
    {
     "data": {
      "text/plain": [
       "1.0    251380\n",
       "0.0     42116\n",
       "Name: hasMusic, dtype: int64"
      ]
     },
     "execution_count": 35,
     "metadata": {},
     "output_type": "execute_result"
    }
   ],
   "source": [
    "# transforming data\n",
    "df['hasMusic'] = df['hasMusic'].map({'Never or hardly ever': 0,\n",
    "                               'Once or twice a month': 1,\n",
    "                               'Once or twice a week': 1,\n",
    "                                'Almost every day': 1, \n",
    "                                            'Every day': 1})\n",
    "df['hasMusic'].value_counts()"
   ]
  },
  {
   "cell_type": "markdown",
   "metadata": {},
   "source": [
    "<hr>\n",
    "\n",
    "#### 'uploads' Column"
   ]
  },
  {
   "cell_type": "code",
   "execution_count": 36,
   "metadata": {},
   "outputs": [
    {
     "data": {
      "text/plain": [
       "Never or hardly ever     144977\n",
       "Once or twice a month     51538\n",
       "Once or twice a week      40221\n",
       "Every day                 28393\n",
       "Almost every day          28302\n",
       "Name: uploads, dtype: int64"
      ]
     },
     "execution_count": 36,
     "metadata": {},
     "output_type": "execute_result"
    }
   ],
   "source": [
    "# getting an idea about the column data\n",
    "df['uploads'].value_counts()"
   ]
  },
  {
   "cell_type": "code",
   "execution_count": 37,
   "metadata": {},
   "outputs": [
    {
     "data": {
      "text/plain": [
       "1.0    148454\n",
       "0.0    144977\n",
       "Name: uploads, dtype: int64"
      ]
     },
     "execution_count": 37,
     "metadata": {},
     "output_type": "execute_result"
    }
   ],
   "source": [
    "# transforming data\n",
    "df['uploads'] = df['uploads'].map({'Never or hardly ever': 0,\n",
    "                               'Once or twice a month': 1,\n",
    "                               'Once or twice a week': 1,\n",
    "                                'Almost every day': 1, \n",
    "                                            'Every day': 1})\n",
    "df['uploads'].value_counts()"
   ]
  },
  {
   "cell_type": "markdown",
   "metadata": {},
   "source": [
    "<hr>\n",
    "\n",
    "#### 'hasPC' Column"
   ]
  },
  {
   "cell_type": "code",
   "execution_count": 38,
   "metadata": {},
   "outputs": [
    {
     "data": {
      "text/plain": [
       "Yes    411040\n",
       "No      62837\n",
       "Name: hasPC, dtype: int64"
      ]
     },
     "execution_count": 38,
     "metadata": {},
     "output_type": "execute_result"
    }
   ],
   "source": [
    "# getting an idea about the column data\n",
    "df['hasPC'].value_counts()"
   ]
  },
  {
   "cell_type": "code",
   "execution_count": 39,
   "metadata": {},
   "outputs": [
    {
     "data": {
      "text/plain": [
       "1.0    411040\n",
       "0.0     62837\n",
       "Name: hasPC, dtype: int64"
      ]
     },
     "execution_count": 39,
     "metadata": {},
     "output_type": "execute_result"
    }
   ],
   "source": [
    "# transforming data\n",
    "df['hasPC'] = df['hasPC'].map({'Yes': 1,\n",
    "                               'No': 0,\n",
    "                               })\n",
    "df['hasPC'].value_counts()"
   ]
  },
  {
   "cell_type": "markdown",
   "metadata": {},
   "source": [
    "<hr>\n",
    "\n",
    "#### 'mathsOrLangCourses' Column"
   ]
  },
  {
   "cell_type": "code",
   "execution_count": 40,
   "metadata": {},
   "outputs": [
    {
     "data": {
      "text/plain": [
       "Courses after school Math             171352\n",
       "Courses after school Test Language    123058\n",
       "Name: mathsOrLangCourses, dtype: int64"
      ]
     },
     "execution_count": 40,
     "metadata": {},
     "output_type": "execute_result"
    }
   ],
   "source": [
    "# getting an idea about the column data\n",
    "df['mathsOrLangCourses'].value_counts()"
   ]
  },
  {
   "cell_type": "code",
   "execution_count": 41,
   "metadata": {},
   "outputs": [
    {
     "data": {
      "text/plain": [
       "Maths       171352\n",
       "Language    123058\n",
       "Name: mathsOrLangCourses, dtype: int64"
      ]
     },
     "execution_count": 41,
     "metadata": {},
     "output_type": "execute_result"
    }
   ],
   "source": [
    "# transforming data\n",
    "df['mathsOrLangCourses'] = df['mathsOrLangCourses'].map({'Courses after school Math': 'Maths',\n",
    "                               'Courses after school Test Language': 'Language',\n",
    "                               })\n",
    "df['mathsOrLangCourses'].value_counts()"
   ]
  },
  {
   "cell_type": "markdown",
   "metadata": {},
   "source": [
    "<hr>\n",
    "\n",
    "#### 'mathsOrSciCourses' Column"
   ]
  },
  {
   "cell_type": "code",
   "execution_count": 42,
   "metadata": {},
   "outputs": [
    {
     "data": {
      "text/plain": [
       "Major in college Science    167095\n",
       "Major in college Math       122732\n",
       "Name: mathsOrSciCourses, dtype: int64"
      ]
     },
     "execution_count": 42,
     "metadata": {},
     "output_type": "execute_result"
    }
   ],
   "source": [
    "# getting an idea about the column data\n",
    "df['mathsOrSciCourses'].value_counts()"
   ]
  },
  {
   "cell_type": "code",
   "execution_count": 43,
   "metadata": {},
   "outputs": [
    {
     "data": {
      "text/plain": [
       "Science    167095\n",
       "Math       122732\n",
       "Name: mathsOrSciCourses, dtype: int64"
      ]
     },
     "execution_count": 43,
     "metadata": {},
     "output_type": "execute_result"
    }
   ],
   "source": [
    "# transforming data\n",
    "df['mathsOrSciCourses'] = df['mathsOrSciCourses'].map({'Major in college Science': 'Science',\n",
    "                               'Major in college Math': 'Math',\n",
    "                               })\n",
    "df['mathsOrSciCourses'].value_counts()"
   ]
  },
  {
   "cell_type": "markdown",
   "metadata": {},
   "source": [
    "<hr>\n",
    "\n",
    "#### 'studyMathsOrLang' Column"
   ]
  },
  {
   "cell_type": "code",
   "execution_count": 44,
   "metadata": {},
   "outputs": [
    {
     "data": {
      "text/plain": [
       "Study harder Math             178180\n",
       "Study harder Test Language    120299\n",
       "Name: studyMathsOrLang, dtype: int64"
      ]
     },
     "execution_count": 44,
     "metadata": {},
     "output_type": "execute_result"
    }
   ],
   "source": [
    "# getting an idea about the column data\n",
    "df['studyMathsOrLang'].value_counts()"
   ]
  },
  {
   "cell_type": "code",
   "execution_count": 45,
   "metadata": {},
   "outputs": [
    {
     "data": {
      "text/plain": [
       "Math        178180\n",
       "Language    120299\n",
       "Name: studyMathsOrLang, dtype: int64"
      ]
     },
     "execution_count": 45,
     "metadata": {},
     "output_type": "execute_result"
    }
   ],
   "source": [
    "# transforming data\n",
    "df['studyMathsOrLang'] = df['studyMathsOrLang'].map({'Study harder Math': 'Math',\n",
    "                               'Study harder Test Language': 'Language',\n",
    "                               })\n",
    "df['studyMathsOrLang'].value_counts()"
   ]
  },
  {
   "cell_type": "markdown",
   "metadata": {},
   "source": [
    "<hr>\n",
    "\n",
    "#### 'studyMathsOrSci' Column"
   ]
  },
  {
   "cell_type": "code",
   "execution_count": 46,
   "metadata": {},
   "outputs": [
    {
     "data": {
      "text/plain": [
       "Maximum classes Math       134002\n",
       "Maximum classes Science    133714\n",
       "Name: studyMathsOrSci, dtype: int64"
      ]
     },
     "execution_count": 46,
     "metadata": {},
     "output_type": "execute_result"
    }
   ],
   "source": [
    "# getting an idea about the column data\n",
    "df['studyMathsOrSci'].value_counts()"
   ]
  },
  {
   "cell_type": "code",
   "execution_count": 47,
   "metadata": {},
   "outputs": [
    {
     "data": {
      "text/plain": [
       "Math       134002\n",
       "Science    133714\n",
       "Name: studyMathsOrSci, dtype: int64"
      ]
     },
     "execution_count": 47,
     "metadata": {},
     "output_type": "execute_result"
    }
   ],
   "source": [
    "# transforming data\n",
    "df['studyMathsOrSci'] = df['studyMathsOrSci'].map({'Maximum classes Math': 'Math',\n",
    "                               'Maximum classes Science': 'Science',\n",
    "                               })\n",
    "df['studyMathsOrSci'].value_counts()"
   ]
  },
  {
   "cell_type": "markdown",
   "metadata": {},
   "source": [
    "<hr>\n",
    "\n",
    "#### 'mathsOrSciJob' Column"
   ]
  },
  {
   "cell_type": "code",
   "execution_count": 48,
   "metadata": {},
   "outputs": [
    {
     "data": {
      "text/plain": [
       "Pursuing a career Science    161633\n",
       "Pursuing a career Math       126359\n",
       "Name: mathsOrSciJob, dtype: int64"
      ]
     },
     "execution_count": 48,
     "metadata": {},
     "output_type": "execute_result"
    }
   ],
   "source": [
    "# getting an idea about the column data\n",
    "df['mathsOrSciJob'].value_counts()"
   ]
  },
  {
   "cell_type": "code",
   "execution_count": 49,
   "metadata": {},
   "outputs": [
    {
     "data": {
      "text/plain": [
       "Science    161633\n",
       "Math       126359\n",
       "Name: mathsOrSciJob, dtype: int64"
      ]
     },
     "execution_count": 49,
     "metadata": {},
     "output_type": "execute_result"
    }
   ],
   "source": [
    "# transforming data\n",
    "df['mathsOrSciJob'] = df['mathsOrSciJob'].map({'Pursuing a career Science': 'Science',\n",
    "                               'Pursuing a career Math': 'Math',\n",
    "                               })\n",
    "df['mathsOrSciJob'].value_counts()"
   ]
  },
  {
   "cell_type": "markdown",
   "metadata": {},
   "source": [
    "<hr>\n",
    "\n",
    "#### 'motherAtHome' Column"
   ]
  },
  {
   "cell_type": "code",
   "execution_count": 50,
   "metadata": {},
   "outputs": [
    {
     "data": {
      "text/plain": [
       "Yes    433007\n",
       "No      27552\n",
       "Name: motherAtHome, dtype: int64"
      ]
     },
     "execution_count": 50,
     "metadata": {},
     "output_type": "execute_result"
    }
   ],
   "source": [
    "# getting an idea about the column data\n",
    "df['motherAtHome'].value_counts()"
   ]
  },
  {
   "cell_type": "code",
   "execution_count": 51,
   "metadata": {},
   "outputs": [
    {
     "data": {
      "text/plain": [
       "1.0    433007\n",
       "0.0     27552\n",
       "Name: motherAtHome, dtype: int64"
      ]
     },
     "execution_count": 51,
     "metadata": {},
     "output_type": "execute_result"
    }
   ],
   "source": [
    "# transforming data\n",
    "df['motherAtHome'] = df['motherAtHome'].map({'Yes': 1,\n",
    "                               'No': 0,\n",
    "                               })\n",
    "df['motherAtHome'].value_counts()"
   ]
  },
  {
   "cell_type": "markdown",
   "metadata": {},
   "source": [
    "<hr>\n",
    "\n",
    "#### 'fatherAtHome' Column"
   ]
  },
  {
   "cell_type": "code",
   "execution_count": 52,
   "metadata": {},
   "outputs": [
    {
     "data": {
      "text/plain": [
       "Yes    372161\n",
       "No      68875\n",
       "Name: fatherAtHome, dtype: int64"
      ]
     },
     "execution_count": 52,
     "metadata": {},
     "output_type": "execute_result"
    }
   ],
   "source": [
    "# getting an idea about the column data\n",
    "df['fatherAtHome'].value_counts()"
   ]
  },
  {
   "cell_type": "code",
   "execution_count": 53,
   "metadata": {},
   "outputs": [
    {
     "data": {
      "text/plain": [
       "1.0    372161\n",
       "0.0     68875\n",
       "Name: fatherAtHome, dtype: int64"
      ]
     },
     "execution_count": 53,
     "metadata": {},
     "output_type": "execute_result"
    }
   ],
   "source": [
    "# transforming data\n",
    "df['fatherAtHome'] = df['fatherAtHome'].map({'Yes': 1,\n",
    "                               'No': 0,\n",
    "                               })\n",
    "df['fatherAtHome'].value_counts()"
   ]
  },
  {
   "cell_type": "markdown",
   "metadata": {},
   "source": [
    "<hr>\n",
    "\n",
    "#### 'brothersAtHome' Column"
   ]
  },
  {
   "cell_type": "code",
   "execution_count": 54,
   "metadata": {},
   "outputs": [
    {
     "data": {
      "text/plain": [
       "Yes    245262\n",
       "No     154814\n",
       "Name: brothersAtHome, dtype: int64"
      ]
     },
     "execution_count": 54,
     "metadata": {},
     "output_type": "execute_result"
    }
   ],
   "source": [
    "# getting an idea about the column data\n",
    "df['brothersAtHome'].value_counts()"
   ]
  },
  {
   "cell_type": "code",
   "execution_count": 55,
   "metadata": {},
   "outputs": [
    {
     "data": {
      "text/plain": [
       "1.0    245262\n",
       "0.0    154814\n",
       "Name: brothersAtHome, dtype: int64"
      ]
     },
     "execution_count": 55,
     "metadata": {},
     "output_type": "execute_result"
    }
   ],
   "source": [
    "# transforming data\n",
    "df['brothersAtHome'] = df['brothersAtHome'].map({'Yes': 1,\n",
    "                               'No': 0,\n",
    "                               })\n",
    "df['brothersAtHome'].value_counts()"
   ]
  },
  {
   "cell_type": "markdown",
   "metadata": {},
   "source": [
    "<hr>\n",
    "\n",
    "#### 'sistersAtHome' Column"
   ]
  },
  {
   "cell_type": "code",
   "execution_count": 56,
   "metadata": {},
   "outputs": [
    {
     "data": {
      "text/plain": [
       "Yes    223061\n",
       "No     167707\n",
       "Name: sistersAtHome, dtype: int64"
      ]
     },
     "execution_count": 56,
     "metadata": {},
     "output_type": "execute_result"
    }
   ],
   "source": [
    "# getting an idea about the column data\n",
    "df['sistersAtHome'].value_counts()"
   ]
  },
  {
   "cell_type": "code",
   "execution_count": 57,
   "metadata": {},
   "outputs": [
    {
     "data": {
      "text/plain": [
       "1.0    223061\n",
       "0.0    167707\n",
       "Name: sistersAtHome, dtype: int64"
      ]
     },
     "execution_count": 57,
     "metadata": {},
     "output_type": "execute_result"
    }
   ],
   "source": [
    "# transforming data\n",
    "df['sistersAtHome'] = df['sistersAtHome'].map({'Yes': 1,\n",
    "                               'No': 0,\n",
    "                               })\n",
    "df['sistersAtHome'].value_counts()"
   ]
  },
  {
   "cell_type": "markdown",
   "metadata": {},
   "source": [
    "<hr>\n",
    "\n",
    "#### 'granniesAtHomes' Column"
   ]
  },
  {
   "cell_type": "code",
   "execution_count": 58,
   "metadata": {},
   "outputs": [
    {
     "data": {
      "text/plain": [
       "No     275636\n",
       "Yes     72544\n",
       "Name: granniesAtHomes, dtype: int64"
      ]
     },
     "execution_count": 58,
     "metadata": {},
     "output_type": "execute_result"
    }
   ],
   "source": [
    "# getting an idea about the column data\n",
    "df['granniesAtHomes'].value_counts()"
   ]
  },
  {
   "cell_type": "code",
   "execution_count": 59,
   "metadata": {},
   "outputs": [
    {
     "data": {
      "text/plain": [
       "0.0    275636\n",
       "1.0     72544\n",
       "Name: granniesAtHomes, dtype: int64"
      ]
     },
     "execution_count": 59,
     "metadata": {},
     "output_type": "execute_result"
    }
   ],
   "source": [
    "# transforming data\n",
    "df['granniesAtHomes'] = df['granniesAtHomes'].map({'Yes': 1,\n",
    "                               'No': 0,\n",
    "                               })\n",
    "df['granniesAtHomes'].value_counts()"
   ]
  },
  {
   "cell_type": "markdown",
   "metadata": {},
   "source": [
    "<hr>\n",
    "\n",
    "#### 'saysDoPoorlyRegardless' Column"
   ]
  },
  {
   "cell_type": "code",
   "execution_count": 60,
   "metadata": {},
   "outputs": [
    {
     "data": {
      "text/plain": [
       "Disagree             127111\n",
       "Strongly disagree     94150\n",
       "Agree                 63524\n",
       "Strongly agree        28685\n",
       "Name: saysDoPoorlyRegardless, dtype: int64"
      ]
     },
     "execution_count": 60,
     "metadata": {},
     "output_type": "execute_result"
    }
   ],
   "source": [
    "# getting an idea about the column data\n",
    "df['saysDoPoorlyRegardless'].value_counts()"
   ]
  },
  {
   "cell_type": "code",
   "execution_count": 61,
   "metadata": {},
   "outputs": [
    {
     "data": {
      "text/plain": [
       "0.0    221261\n",
       "1.0     92209\n",
       "Name: saysDoPoorlyRegardless, dtype: int64"
      ]
     },
     "execution_count": 61,
     "metadata": {},
     "output_type": "execute_result"
    }
   ],
   "source": [
    "# transforming data\n",
    "df['saysDoPoorlyRegardless'] = df['saysDoPoorlyRegardless'].map({'Agree': 1,\n",
    "                               'Strongly disagree': 0,\n",
    "                                'Disagree': 0,\n",
    "                                'Strongly agree': 1\n",
    "                               })\n",
    "df['saysDoPoorlyRegardless'].value_counts()"
   ]
  },
  {
   "cell_type": "markdown",
   "metadata": {},
   "source": [
    "<hr>\n",
    "\n",
    "#### 'teacherNoExplain' Column"
   ]
  },
  {
   "cell_type": "code",
   "execution_count": 62,
   "metadata": {},
   "outputs": [
    {
     "data": {
      "text/plain": [
       "Slightly likely      109357\n",
       "Likely               104832\n",
       "Not at all likely     59997\n",
       "Very   Likely         39219\n",
       "Name: teacherNoExplain, dtype: int64"
      ]
     },
     "execution_count": 62,
     "metadata": {},
     "output_type": "execute_result"
    }
   ],
   "source": [
    "# getting an idea about the column data\n",
    "df['teacherNoExplain'].value_counts()"
   ]
  },
  {
   "cell_type": "code",
   "execution_count": 63,
   "metadata": {},
   "outputs": [
    {
     "data": {
      "text/plain": [
       "1.0    253408\n",
       "0.0     59997\n",
       "Name: teacherNoExplain, dtype: int64"
      ]
     },
     "execution_count": 63,
     "metadata": {},
     "output_type": "execute_result"
    }
   ],
   "source": [
    "# transforming data\n",
    "df['teacherNoExplain'] = df['teacherNoExplain'].map({'Slightly likely': 1,\n",
    "                               'Likely': 1,\n",
    "                                    'Not at all likely':0,\n",
    "                                        'Very   Likely':1\n",
    "                               })\n",
    "df['teacherNoExplain'].value_counts()"
   ]
  },
  {
   "cell_type": "markdown",
   "metadata": {},
   "source": [
    "<hr>\n",
    "\n",
    "#### 'saysMatsSoHard' Column"
   ]
  },
  {
   "cell_type": "code",
   "execution_count": 64,
   "metadata": {},
   "outputs": [
    {
     "data": {
      "text/plain": [
       "Likely               139516\n",
       "Very   Likely         80794\n",
       "Slightly likely       67979\n",
       "Not at all likely     24707\n",
       "Name: saysMatsSoHard, dtype: int64"
      ]
     },
     "execution_count": 64,
     "metadata": {},
     "output_type": "execute_result"
    }
   ],
   "source": [
    "# getting an idea about the column data\n",
    "df['saysMatsSoHard'].value_counts()"
   ]
  },
  {
   "cell_type": "code",
   "execution_count": 65,
   "metadata": {},
   "outputs": [
    {
     "data": {
      "text/plain": [
       "1.0    288289\n",
       "0.0     24707\n",
       "Name: saysMatsSoHard, dtype: int64"
      ]
     },
     "execution_count": 65,
     "metadata": {},
     "output_type": "execute_result"
    }
   ],
   "source": [
    "# transforming data\n",
    "df['saysMatsSoHard'] = df['saysMatsSoHard'].map({'Slightly likely': 1,\n",
    "                               'Likely': 1,\n",
    "                                    'Not at all likely':0,\n",
    "                                        'Very   Likely':1})\n",
    "df['saysMatsSoHard'].value_counts()"
   ]
  },
  {
   "cell_type": "markdown",
   "metadata": {},
   "source": [
    "<hr>\n",
    "\n",
    "#### 'saysTeacherNoMakingStudentInterested' Column"
   ]
  },
  {
   "cell_type": "code",
   "execution_count": 66,
   "metadata": {},
   "outputs": [
    {
     "data": {
      "text/plain": [
       "Likely               101953\n",
       "Slightly likely       99750\n",
       "Very   Likely         55967\n",
       "Not at all likely     55300\n",
       "Name: saysTeacherNoMakingStudentInterested, dtype: int64"
      ]
     },
     "execution_count": 66,
     "metadata": {},
     "output_type": "execute_result"
    }
   ],
   "source": [
    "# getting an idea about the column data\n",
    "df['saysTeacherNoMakingStudentInterested'].value_counts()"
   ]
  },
  {
   "cell_type": "code",
   "execution_count": 67,
   "metadata": {},
   "outputs": [
    {
     "data": {
      "text/plain": [
       "1.0    257670\n",
       "0.0     55300\n",
       "Name: saysTeacherNoMakingStudentInterested, dtype: int64"
      ]
     },
     "execution_count": 67,
     "metadata": {},
     "output_type": "execute_result"
    }
   ],
   "source": [
    "# transforming data\n",
    "df['saysTeacherNoMakingStudentInterested'] = df['saysTeacherNoMakingStudentInterested'].map({'Slightly likely': 1,\n",
    "                               'Likely': 1,\n",
    "                                    'Not at all likely':0,\n",
    "                                        'Very   Likely':1})\n",
    "df['saysTeacherNoMakingStudentInterested'].value_counts()"
   ]
  },
  {
   "cell_type": "markdown",
   "metadata": {},
   "source": [
    "<hr>\n",
    "\n",
    "#### 'paysAttInClass' Column"
   ]
  },
  {
   "cell_type": "code",
   "execution_count": 68,
   "metadata": {},
   "outputs": [
    {
     "data": {
      "text/plain": [
       "Agree                171776\n",
       "Strongly agree        82713\n",
       "Disagree              48412\n",
       "Strongly disagree      9999\n",
       "Name: paysAttInClass, dtype: int64"
      ]
     },
     "execution_count": 68,
     "metadata": {},
     "output_type": "execute_result"
    }
   ],
   "source": [
    "# getting an idea about the column data\n",
    "df['paysAttInClass'].value_counts()"
   ]
  },
  {
   "cell_type": "code",
   "execution_count": 69,
   "metadata": {},
   "outputs": [
    {
     "data": {
      "text/plain": [
       "1.0    254489\n",
       "0.0     58411\n",
       "Name: paysAttInClass, dtype: int64"
      ]
     },
     "execution_count": 69,
     "metadata": {},
     "output_type": "execute_result"
    }
   ],
   "source": [
    "# transforming data\n",
    "df['paysAttInClass'] = df['paysAttInClass'].map({'Agree': 1,\n",
    "                               'Strongly agree': 1,\n",
    "                                    'Disagree':0,\n",
    "                                        'Strongly disagree':0})\n",
    "df['paysAttInClass'].value_counts()"
   ]
  },
  {
   "cell_type": "markdown",
   "metadata": {},
   "source": [
    "<hr>\n",
    "\n",
    "#### 'saysTeacherGivesExtraHelp' Column"
   ]
  },
  {
   "cell_type": "code",
   "execution_count": 70,
   "metadata": {},
   "outputs": [
    {
     "data": {
      "text/plain": [
       "Every Lesson            136185\n",
       "Most Lessons             94283\n",
       "Some Lessons             64852\n",
       "Never or Hardly Ever     19593\n",
       "Name: saysTeacherGivesExtraHelp, dtype: int64"
      ]
     },
     "execution_count": 70,
     "metadata": {},
     "output_type": "execute_result"
    }
   ],
   "source": [
    "# getting an idea about the column data\n",
    "df['saysTeacherGivesExtraHelp'].value_counts()"
   ]
  },
  {
   "cell_type": "code",
   "execution_count": 71,
   "metadata": {},
   "outputs": [
    {
     "data": {
      "text/plain": [
       "1.0    230468\n",
       "0.0     84445\n",
       "Name: saysTeacherGivesExtraHelp, dtype: int64"
      ]
     },
     "execution_count": 71,
     "metadata": {},
     "output_type": "execute_result"
    }
   ],
   "source": [
    "# transforming data\n",
    "df['saysTeacherGivesExtraHelp'] = df['saysTeacherGivesExtraHelp'].map({'Every Lesson': 1,\n",
    "                               'Most Lessons': 1,\n",
    "                                    'Some Lessons':0,\n",
    "                                        'Never or Hardly Ever':0})\n",
    "df['saysTeacherGivesExtraHelp'].value_counts()"
   ]
  },
  {
   "cell_type": "markdown",
   "metadata": {},
   "source": [
    "<hr>\n",
    "\n",
    "#### 'saysTeacherGivesHelp' Column"
   ]
  },
  {
   "cell_type": "code",
   "execution_count": 72,
   "metadata": {},
   "outputs": [
    {
     "data": {
      "text/plain": [
       "Every Lesson            153025\n",
       "Most Lessons             89992\n",
       "Some Lessons             54126\n",
       "Never or Hardly Ever     17225\n",
       "Name: saysTeacherGivesHelp, dtype: int64"
      ]
     },
     "execution_count": 72,
     "metadata": {},
     "output_type": "execute_result"
    }
   ],
   "source": [
    "# getting an idea about the column data\n",
    "df['saysTeacherGivesHelp'].value_counts()"
   ]
  },
  {
   "cell_type": "code",
   "execution_count": 73,
   "metadata": {},
   "outputs": [
    {
     "data": {
      "text/plain": [
       "1.0    243017\n",
       "0.0     71351\n",
       "Name: saysTeacherGivesHelp, dtype: int64"
      ]
     },
     "execution_count": 73,
     "metadata": {},
     "output_type": "execute_result"
    }
   ],
   "source": [
    "# transforming data\n",
    "df['saysTeacherGivesHelp'] = df['saysTeacherGivesHelp'].map({'Every Lesson': 1,\n",
    "                               'Most Lessons': 1,\n",
    "                                    'Some Lessons':0,\n",
    "                                        'Never or Hardly Ever':0})\n",
    "df['saysTeacherGivesHelp'].value_counts()"
   ]
  },
  {
   "cell_type": "markdown",
   "metadata": {},
   "source": [
    "<hr>\n",
    "\n",
    "#### 'teacherAllowsExpOpinion' Column"
   ]
  },
  {
   "cell_type": "code",
   "execution_count": 74,
   "metadata": {},
   "outputs": [
    {
     "data": {
      "text/plain": [
       "Every Lesson            133732\n",
       "Most Lessons             89813\n",
       "Some Lessons             63867\n",
       "Never or Hardly Ever     27395\n",
       "Name: teacherAllowsExpOpinion, dtype: int64"
      ]
     },
     "execution_count": 74,
     "metadata": {},
     "output_type": "execute_result"
    }
   ],
   "source": [
    "# getting an idea about the column data\n",
    "df['teacherAllowsExpOpinion'].value_counts()"
   ]
  },
  {
   "cell_type": "code",
   "execution_count": 75,
   "metadata": {},
   "outputs": [
    {
     "data": {
      "text/plain": [
       "1.0    223545\n",
       "0.0     91262\n",
       "Name: teacherAllowsExpOpinion, dtype: int64"
      ]
     },
     "execution_count": 75,
     "metadata": {},
     "output_type": "execute_result"
    }
   ],
   "source": [
    "# transforming data\n",
    "df['teacherAllowsExpOpinion'] = df['teacherAllowsExpOpinion'].map({'Every Lesson': 1,\n",
    "                               'Most Lessons': 1,\n",
    "                                    'Some Lessons':0,\n",
    "                                        'Never or Hardly Ever':0})\n",
    "df['teacherAllowsExpOpinion'].value_counts()"
   ]
  },
  {
   "cell_type": "markdown",
   "metadata": {},
   "source": [
    "<hr>\n",
    "\n",
    "#### 'teacherAllowsReasoning' Column"
   ]
  },
  {
   "cell_type": "code",
   "execution_count": 76,
   "metadata": {},
   "outputs": [
    {
     "data": {
      "text/plain": [
       "Most Lessons            104082\n",
       "Some Lessons             92573\n",
       "Every Lesson             73557\n",
       "Never or Hardly Ever     44116\n",
       "Name: teacherAllowsReasoning, dtype: int64"
      ]
     },
     "execution_count": 76,
     "metadata": {},
     "output_type": "execute_result"
    }
   ],
   "source": [
    "# getting an idea about the column data\n",
    "df['teacherAllowsReasoning'].value_counts()"
   ]
  },
  {
   "cell_type": "code",
   "execution_count": 77,
   "metadata": {},
   "outputs": [
    {
     "data": {
      "text/plain": [
       "1.0    177639\n",
       "0.0    136689\n",
       "Name: teacherAllowsReasoning, dtype: int64"
      ]
     },
     "execution_count": 77,
     "metadata": {},
     "output_type": "execute_result"
    }
   ],
   "source": [
    "# transforming data\n",
    "df['teacherAllowsReasoning'] = df['teacherAllowsReasoning'].map({'Every Lesson': 1,\n",
    "                               'Most Lessons': 1,\n",
    "                                    'Some Lessons':0,\n",
    "                                        'Never or Hardly Ever':0})\n",
    "df['teacherAllowsReasoning'].value_counts()"
   ]
  },
  {
   "cell_type": "markdown",
   "metadata": {},
   "source": [
    "<hr>\n",
    "\n",
    "#### 'teacherTrainsThinking' Column"
   ]
  },
  {
   "cell_type": "code",
   "execution_count": 78,
   "metadata": {},
   "outputs": [
    {
     "data": {
      "text/plain": [
       "Often                      115669\n",
       "Sometimes                  114908\n",
       "Always or almost always     56817\n",
       "Never or rarely             26127\n",
       "Name: teacherTrainsThinking, dtype: int64"
      ]
     },
     "execution_count": 78,
     "metadata": {},
     "output_type": "execute_result"
    }
   ],
   "source": [
    "# getting an idea about the column data\n",
    "df['teacherTrainsThinking'].value_counts()"
   ]
  },
  {
   "cell_type": "code",
   "execution_count": 79,
   "metadata": {},
   "outputs": [
    {
     "data": {
      "text/plain": [
       "1.0    172486\n",
       "0.0    141035\n",
       "Name: teacherTrainsThinking, dtype: int64"
      ]
     },
     "execution_count": 79,
     "metadata": {},
     "output_type": "execute_result"
    }
   ],
   "source": [
    "# transforming data\n",
    "df['teacherTrainsThinking'] = df['teacherTrainsThinking'].map({'Never or rarely': 0,\n",
    "                               'Often': 1,\n",
    "                                    'Sometimes':0,\n",
    "                                        'Always or almost always':1})\n",
    "df['teacherTrainsThinking'].value_counts()"
   ]
  },
  {
   "cell_type": "markdown",
   "metadata": {},
   "source": [
    "<hr>\n",
    "\n",
    "#### 'teacherAllowsOwnProcedures' Column"
   ]
  },
  {
   "cell_type": "code",
   "execution_count": 80,
   "metadata": {},
   "outputs": [
    {
     "data": {
      "text/plain": [
       "Sometimes                  113172\n",
       "Often                       87900\n",
       "Never or rarely             61844\n",
       "Always or almost always     49677\n",
       "Name: teacherAllowsOwnProcedures, dtype: int64"
      ]
     },
     "execution_count": 80,
     "metadata": {},
     "output_type": "execute_result"
    }
   ],
   "source": [
    "# getting an idea about the column data\n",
    "df['teacherAllowsOwnProcedures'].value_counts()"
   ]
  },
  {
   "cell_type": "code",
   "execution_count": 81,
   "metadata": {},
   "outputs": [
    {
     "data": {
      "text/plain": [
       "0.0    175016\n",
       "1.0    137577\n",
       "Name: teacherAllowsOwnProcedures, dtype: int64"
      ]
     },
     "execution_count": 81,
     "metadata": {},
     "output_type": "execute_result"
    }
   ],
   "source": [
    "# transforming data\n",
    "df['teacherAllowsOwnProcedures'] = df['teacherAllowsOwnProcedures'].map({'Never or rarely': 0,\n",
    "                               'Often': 1,\n",
    "                                    'Sometimes':0,\n",
    "                                        'Always or almost always':1})\n",
    "df['teacherAllowsOwnProcedures'].value_counts()"
   ]
  },
  {
   "cell_type": "markdown",
   "metadata": {},
   "source": [
    "<hr>\n",
    "\n",
    "#### 'teacherAllowsMultipleSolutions' Column"
   ]
  },
  {
   "cell_type": "code",
   "execution_count": 82,
   "metadata": {},
   "outputs": [
    {
     "data": {
      "text/plain": [
       "Sometimes                  112906\n",
       "Often                       95443\n",
       "Never or rarely             55758\n",
       "Always or almost always     48383\n",
       "Name: teacherAllowsMultipleSolutions, dtype: int64"
      ]
     },
     "execution_count": 82,
     "metadata": {},
     "output_type": "execute_result"
    }
   ],
   "source": [
    "# getting an idea about the column data\n",
    "df['teacherAllowsMultipleSolutions'].value_counts()"
   ]
  },
  {
   "cell_type": "code",
   "execution_count": 83,
   "metadata": {},
   "outputs": [
    {
     "data": {
      "text/plain": [
       "0.0    168664\n",
       "1.0    143826\n",
       "Name: teacherAllowsMultipleSolutions, dtype: int64"
      ]
     },
     "execution_count": 83,
     "metadata": {},
     "output_type": "execute_result"
    }
   ],
   "source": [
    "# transforming data\n",
    "df['teacherAllowsMultipleSolutions'] = df['teacherAllowsMultipleSolutions'].map({'Never or rarely': 0,\n",
    "                               'Often': 1,\n",
    "                                    'Sometimes':0,\n",
    "                                        'Always or almost always':1})\n",
    "df['teacherAllowsMultipleSolutions'].value_counts()"
   ]
  },
  {
   "cell_type": "markdown",
   "metadata": {},
   "source": [
    "<hr>\n",
    "\n",
    "#### 'copeWithTeacher' Column"
   ]
  },
  {
   "cell_type": "code",
   "execution_count": 84,
   "metadata": {},
   "outputs": [
    {
     "data": {
      "text/plain": [
       "Agree                180918\n",
       "Strongly agree        81459\n",
       "Disagree              43810\n",
       "Strongly disagree      7036\n",
       "Name: copeWithTeacher, dtype: int64"
      ]
     },
     "execution_count": 84,
     "metadata": {},
     "output_type": "execute_result"
    }
   ],
   "source": [
    "# getting an idea about the column data\n",
    "df['copeWithTeacher'].value_counts()"
   ]
  },
  {
   "cell_type": "code",
   "execution_count": 85,
   "metadata": {},
   "outputs": [
    {
     "data": {
      "text/plain": [
       "1.0    262377\n",
       "0.0     50846\n",
       "Name: copeWithTeacher, dtype: int64"
      ]
     },
     "execution_count": 85,
     "metadata": {},
     "output_type": "execute_result"
    }
   ],
   "source": [
    "# transforming data\n",
    "df['copeWithTeacher'] = df['copeWithTeacher'].map({'Agree': 1,\n",
    "                               'Strongly agree': 1,\n",
    "                                    'Disagree':0,\n",
    "                                        'Strongly disagree':0})\n",
    "df['copeWithTeacher'].value_counts()"
   ]
  },
  {
   "cell_type": "markdown",
   "metadata": {},
   "source": [
    "<hr>\n",
    "\n",
    "#### 'teacherPaysInterest' Column"
   ]
  },
  {
   "cell_type": "code",
   "execution_count": 86,
   "metadata": {},
   "outputs": [
    {
     "data": {
      "text/plain": [
       "Agree                175300\n",
       "Strongly agree        76449\n",
       "Disagree              51359\n",
       "Strongly disagree      9483\n",
       "Name: teacherPaysInterest, dtype: int64"
      ]
     },
     "execution_count": 86,
     "metadata": {},
     "output_type": "execute_result"
    }
   ],
   "source": [
    "# getting an idea about the column data\n",
    "df['teacherPaysInterest'].value_counts()"
   ]
  },
  {
   "cell_type": "code",
   "execution_count": 87,
   "metadata": {},
   "outputs": [
    {
     "data": {
      "text/plain": [
       "1.0    251749\n",
       "0.0     60842\n",
       "Name: teacherPaysInterest, dtype: int64"
      ]
     },
     "execution_count": 87,
     "metadata": {},
     "output_type": "execute_result"
    }
   ],
   "source": [
    "# transforming data\n",
    "df['teacherPaysInterest'] = df['teacherPaysInterest'].map({'Agree': 1,\n",
    "                               'Strongly agree': 1,\n",
    "                                    'Disagree':0,\n",
    "                                        'Strongly disagree':0})\n",
    "df['teacherPaysInterest'].value_counts()"
   ]
  },
  {
   "cell_type": "markdown",
   "metadata": {},
   "source": [
    "<hr>\n",
    "\n",
    "#### 'teacherListen' Column"
   ]
  },
  {
   "cell_type": "code",
   "execution_count": 88,
   "metadata": {},
   "outputs": [
    {
     "data": {
      "text/plain": [
       "Agree                168284\n",
       "Strongly agree        69420\n",
       "Disagree              62855\n",
       "Strongly disagree     11629\n",
       "Name: teacherListen, dtype: int64"
      ]
     },
     "execution_count": 88,
     "metadata": {},
     "output_type": "execute_result"
    }
   ],
   "source": [
    "# getting an idea about the column data\n",
    "df['teacherListen'].value_counts()"
   ]
  },
  {
   "cell_type": "code",
   "execution_count": 89,
   "metadata": {},
   "outputs": [
    {
     "data": {
      "text/plain": [
       "1.0    237704\n",
       "0.0     74484\n",
       "Name: teacherListen, dtype: int64"
      ]
     },
     "execution_count": 89,
     "metadata": {},
     "output_type": "execute_result"
    }
   ],
   "source": [
    "# transforming data\n",
    "df['teacherListen'] = df['teacherListen'].map({'Agree': 1,\n",
    "                               'Strongly agree': 1,\n",
    "                                    'Disagree':0,\n",
    "                                        'Strongly disagree':0})\n",
    "df['teacherListen'].value_counts()"
   ]
  },
  {
   "cell_type": "markdown",
   "metadata": {},
   "source": [
    "<hr>\n",
    "\n",
    "#### 'teacherHelps' Column"
   ]
  },
  {
   "cell_type": "code",
   "execution_count": 90,
   "metadata": {},
   "outputs": [
    {
     "data": {
      "text/plain": [
       "Agree                173260\n",
       "Strongly agree        86203\n",
       "Disagree              42840\n",
       "Strongly disagree      9991\n",
       "Name: teacherHelps, dtype: int64"
      ]
     },
     "execution_count": 90,
     "metadata": {},
     "output_type": "execute_result"
    }
   ],
   "source": [
    "# getting an idea about the column data\n",
    "df['teacherHelps'].value_counts()"
   ]
  },
  {
   "cell_type": "code",
   "execution_count": 91,
   "metadata": {},
   "outputs": [
    {
     "data": {
      "text/plain": [
       "1.0    259463\n",
       "0.0     52831\n",
       "Name: teacherHelps, dtype: int64"
      ]
     },
     "execution_count": 91,
     "metadata": {},
     "output_type": "execute_result"
    }
   ],
   "source": [
    "# transforming data\n",
    "df['teacherHelps'] = df['teacherHelps'].map({'Agree': 1,\n",
    "                               'Strongly agree': 1,\n",
    "                                    'Disagree':0,\n",
    "                                        'Strongly disagree':0})\n",
    "df['teacherHelps'].value_counts()"
   ]
  },
  {
   "cell_type": "markdown",
   "metadata": {},
   "source": [
    "<hr>\n",
    "\n",
    "#### 'teacherIsFair' Column"
   ]
  },
  {
   "cell_type": "code",
   "execution_count": 92,
   "metadata": {},
   "outputs": [
    {
     "data": {
      "text/plain": [
       "Agree                174259\n",
       "Strongly agree        84213\n",
       "Disagree              40843\n",
       "Strongly disagree     12589\n",
       "Name: teacherIsFair, dtype: int64"
      ]
     },
     "execution_count": 92,
     "metadata": {},
     "output_type": "execute_result"
    }
   ],
   "source": [
    "# getting an idea about the column data\n",
    "df['teacherIsFair'].value_counts()"
   ]
  },
  {
   "cell_type": "code",
   "execution_count": 93,
   "metadata": {},
   "outputs": [
    {
     "data": {
      "text/plain": [
       "1.0    258472\n",
       "0.0     53432\n",
       "Name: teacherIsFair, dtype: int64"
      ]
     },
     "execution_count": 93,
     "metadata": {},
     "output_type": "execute_result"
    }
   ],
   "source": [
    "# transforming data\n",
    "df['teacherIsFair'] = df['teacherIsFair'].map({'Agree': 1,\n",
    "                               'Strongly agree': 1,\n",
    "                                    'Disagree':0,\n",
    "                                        'Strongly disagree':0})\n",
    "df['teacherIsFair'].value_counts()"
   ]
  },
  {
   "cell_type": "markdown",
   "metadata": {},
   "source": [
    "<hr>\n",
    "\n",
    "#### 'drawsGraphs' Column"
   ]
  },
  {
   "cell_type": "code",
   "execution_count": 94,
   "metadata": {},
   "outputs": [
    {
     "data": {
      "text/plain": [
       "No                                              198909\n",
       "Yes, students did this                           49745\n",
       "Yes, but only the teacher demonstrated this      41240\n",
       "Name: drawsGraphs, dtype: int64"
      ]
     },
     "execution_count": 94,
     "metadata": {},
     "output_type": "execute_result"
    }
   ],
   "source": [
    "# getting an idea about the column data\n",
    "df['drawsGraphs'].value_counts()"
   ]
  },
  {
   "cell_type": "code",
   "execution_count": 95,
   "metadata": {},
   "outputs": [
    {
     "data": {
      "text/plain": [
       "0.0    198909\n",
       "1.0     49745\n",
       "Name: drawsGraphs, dtype: int64"
      ]
     },
     "execution_count": 95,
     "metadata": {},
     "output_type": "execute_result"
    }
   ],
   "source": [
    "# transforming data\n",
    "df['drawsGraphs'] = df['drawsGraphs'].map({'No': 0,\n",
    "                               'Yes, students did this': 1,\n",
    "                                    'Yes, but only the teacher demonstrated this':0\n",
    "                                          })\n",
    "df['drawsGraphs'].value_counts()"
   ]
  },
  {
   "cell_type": "markdown",
   "metadata": {},
   "source": [
    "<hr>\n",
    "\n",
    "#### 'practices' Column"
   ]
  },
  {
   "cell_type": "code",
   "execution_count": 96,
   "metadata": {},
   "outputs": [
    {
     "data": {
      "text/plain": [
       "No                                              212111\n",
       "Yes, students did this                           44707\n",
       "Yes, but only the teacher demonstrated this      32609\n",
       "Name: practices, dtype: int64"
      ]
     },
     "execution_count": 96,
     "metadata": {},
     "output_type": "execute_result"
    }
   ],
   "source": [
    "# getting an idea about the column data\n",
    "df['practices'].value_counts()"
   ]
  },
  {
   "cell_type": "code",
   "execution_count": 97,
   "metadata": {},
   "outputs": [
    {
     "data": {
      "text/plain": [
       "0.0    212111\n",
       "1.0     44707\n",
       "Name: practices, dtype: int64"
      ]
     },
     "execution_count": 97,
     "metadata": {},
     "output_type": "execute_result"
    }
   ],
   "source": [
    "# transforming data\n",
    "df['practices'] = df['practices'].map({'No': 0,\n",
    "                               'Yes, students did this': 1,\n",
    "                                    'Yes, but only the teacher demonstrated this':0\n",
    "                                          })\n",
    "df['practices'].value_counts()"
   ]
  },
  {
   "cell_type": "markdown",
   "metadata": {},
   "source": [
    "<hr>\n",
    "\n",
    "#### 'experiencesFigures' Column"
   ]
  },
  {
   "cell_type": "code",
   "execution_count": 98,
   "metadata": {},
   "outputs": [
    {
     "data": {
      "text/plain": [
       "No                                              203795\n",
       "Yes, students did this                           44102\n",
       "Yes, but only the teacher demonstrated this      40971\n",
       "Name: experiencesFigures, dtype: int64"
      ]
     },
     "execution_count": 98,
     "metadata": {},
     "output_type": "execute_result"
    }
   ],
   "source": [
    "# getting an idea about the column data\n",
    "df['experiencesFigures'].value_counts()"
   ]
  },
  {
   "cell_type": "code",
   "execution_count": 99,
   "metadata": {},
   "outputs": [
    {
     "data": {
      "text/plain": [
       "0.0    203795\n",
       "1.0     44102\n",
       "Name: experiencesFigures, dtype: int64"
      ]
     },
     "execution_count": 99,
     "metadata": {},
     "output_type": "execute_result"
    }
   ],
   "source": [
    "# transforming data\n",
    "df['experiencesFigures'] = df['experiencesFigures'].map({'No': 0,\n",
    "                               'Yes, students did this': 1,\n",
    "                                    'Yes, but only the teacher demonstrated this':0\n",
    "                                          })\n",
    "df['experiencesFigures'].value_counts()"
   ]
  },
  {
   "cell_type": "markdown",
   "metadata": {},
   "source": [
    "<hr>\n",
    "\n",
    "#### 'experiencesSpSheets' Column"
   ]
  },
  {
   "cell_type": "code",
   "execution_count": 100,
   "metadata": {},
   "outputs": [
    {
     "data": {
      "text/plain": [
       "No                                              194896\n",
       "Yes, students did this                           57750\n",
       "Yes, but only the teacher demonstrated this      36439\n",
       "Name: experiencesSpSheets, dtype: int64"
      ]
     },
     "execution_count": 100,
     "metadata": {},
     "output_type": "execute_result"
    }
   ],
   "source": [
    "# getting an idea about the column data\n",
    "df['experiencesSpSheets'].value_counts()"
   ]
  },
  {
   "cell_type": "code",
   "execution_count": 101,
   "metadata": {},
   "outputs": [
    {
     "data": {
      "text/plain": [
       "0.0    194896\n",
       "1.0     57750\n",
       "Name: experiencesSpSheets, dtype: int64"
      ]
     },
     "execution_count": 101,
     "metadata": {},
     "output_type": "execute_result"
    }
   ],
   "source": [
    "# transforming data\n",
    "df['experiencesSpSheets'] = df['experiencesSpSheets'].map({'No': 0,\n",
    "                               'Yes, students did this': 1,\n",
    "                                    'Yes, but only the teacher demonstrated this':0\n",
    "                                          })\n",
    "df['experiencesSpSheets'].value_counts()"
   ]
  },
  {
   "cell_type": "markdown",
   "metadata": {},
   "source": [
    "<hr>\n",
    "\n",
    "#### 'experiencesHistograms' Column"
   ]
  },
  {
   "cell_type": "code",
   "execution_count": 102,
   "metadata": {},
   "outputs": [
    {
     "data": {
      "text/plain": [
       "No                                              213321\n",
       "Yes, students did this                           38592\n",
       "Yes, but only the teacher demonstrated this      37356\n",
       "Name: experiencesHistograms, dtype: int64"
      ]
     },
     "execution_count": 102,
     "metadata": {},
     "output_type": "execute_result"
    }
   ],
   "source": [
    "# getting an idea about the column data\n",
    "df['experiencesHistograms'].value_counts()"
   ]
  },
  {
   "cell_type": "code",
   "execution_count": 103,
   "metadata": {},
   "outputs": [
    {
     "data": {
      "text/plain": [
       "0.0    213321\n",
       "1.0     38592\n",
       "Name: experiencesHistograms, dtype: int64"
      ]
     },
     "execution_count": 103,
     "metadata": {},
     "output_type": "execute_result"
    }
   ],
   "source": [
    "# transforming data\n",
    "df['experiencesHistograms'] = df['experiencesHistograms'].map({'No': 0,\n",
    "                               'Yes, students did this': 1,\n",
    "                                    'Yes, but only the teacher demonstrated this':0\n",
    "                                          })\n",
    "df['experiencesHistograms'].value_counts()"
   ]
  },
  {
   "cell_type": "markdown",
   "metadata": {},
   "source": [
    "<hr>\n",
    "\n",
    "#### 'interactsGraphs' Column"
   ]
  },
  {
   "cell_type": "code",
   "execution_count": 104,
   "metadata": {},
   "outputs": [
    {
     "data": {
      "text/plain": [
       "No                                              210077\n",
       "Yes, but only the teacher demonstrated this      40090\n",
       "Yes, students did this                           39110\n",
       "Name: interactsGraphs, dtype: int64"
      ]
     },
     "execution_count": 104,
     "metadata": {},
     "output_type": "execute_result"
    }
   ],
   "source": [
    "# getting an idea about the column data\n",
    "df['interactsGraphs'].value_counts()"
   ]
  },
  {
   "cell_type": "code",
   "execution_count": 105,
   "metadata": {},
   "outputs": [
    {
     "data": {
      "text/plain": [
       "0.0    210077\n",
       "1.0     39110\n",
       "Name: interactsGraphs, dtype: int64"
      ]
     },
     "execution_count": 105,
     "metadata": {},
     "output_type": "execute_result"
    }
   ],
   "source": [
    "# transforming data\n",
    "df['interactsGraphs'] = df['interactsGraphs'].map({'No': 0,\n",
    "                               'Yes, students did this': 1,\n",
    "                                    'Yes, but only the teacher demonstrated this':0\n",
    "                                          })\n",
    "df['interactsGraphs'].value_counts()"
   ]
  },
  {
   "cell_type": "markdown",
   "metadata": {},
   "source": [
    "<p><center>End of transforming data.</center></p>\n",
    "<hr>"
   ]
  },
  {
   "cell_type": "markdown",
   "metadata": {},
   "source": [
    "### Unifying Columns Telling Nearly the Same Features of a Student"
   ]
  },
  {
   "cell_type": "markdown",
   "metadata": {},
   "source": [
    "#### A. Declaring Helping Function/s:"
   ]
  },
  {
   "cell_type": "code",
   "execution_count": 106,
   "metadata": {},
   "outputs": [],
   "source": [
    "def unifySoSimilarBinaryColumns(dataframe ,soSimilarBinaryColumns):\n",
    "    \"\"\"\n",
    "    - This function takes a list of strings representing labels of any dataframe columns of choice holding binary data that are telling very similar features (e.g. two columns, one telling whether or not a record is associated with being professional, and the other telling whether or not a record is associated with being expert), after this, the function produces and returns a new dataframe column (series) holding the value 1 whenever any of the similar columns' values is equal to 1, or holding the value 0 whenever all the similar columns' values are equal to 0 .\n",
    "    - All columns should belong to the same dataframe, given by argument 'dataframe'\n",
    "    \"\"\"\n",
    "    #creating a copy of dataframe for temporary usage not to mess with the original dataframe (pass by value approach)\n",
    "    dataframeCopy = dataframe.copy()\n",
    "    \n",
    "    # Initializing the resulting column\n",
    "    dataForResultingColumn = np.full([ 1, dataframe.shape[0] ], np.nan)\n",
    "    dataframeCopy['resultingColumn'] = pd.Series(dataForResultingColumn[0]) # the 1d array of the index 0 in 'dataForResultingColumn' is the only 1d array inside the 2d array, so no worries\n",
    "    \n",
    "    # Two arrays to hold indecies of dataframe where the value of resulting column should be 1 and another when it should be 0 (respectively)\n",
    "    recordsWhereValueForResultingColumnShouldBe1 = np.empty((0))\n",
    "    recordsWhereValueForResultingColumnShouldBe0 = np.empty((0))\n",
    "    \n",
    "    # Get indecies where resulting column value should be 1 ...\n",
    "    # ----------------------------------------------------------\n",
    "    for column in soSimilarBinaryColumns:\n",
    "        # get indecies where this particular column value is 1 (which implies where resulting column should also be one)\n",
    "        indeciesOfThatColBeing1 = dataframeCopy.query(\"{} == 1\".format(column)).index\n",
    "        # append these indecies to the array holding indecies where the value of resulting column should be 1 ('recordsWhereValueForResultingColumnShouldBe1')\n",
    "        recordsWhereValueForResultingColumnShouldBe1 = np.append(recordsWhereValueForResultingColumnShouldBe1, indeciesOfThatColBeing1)\n",
    "    #remove same indecies appended more than one time (if exist)\n",
    "    recordsWhereValueForResultingColumnShouldBe1 = np.unique(recordsWhereValueForResultingColumnShouldBe1)\n",
    "    \n",
    "    # Get indecies where resulting column value should be 0 ...\n",
    "    # ----------------------------------------------------------\n",
    "    for column in soSimilarBinaryColumns:\n",
    "        # get indecies where this particular column value is 0\n",
    "        indeciesOfThatColBeing0 = dataframeCopy.query(\"{} == 0\".format(column)).index\n",
    "        # append these indecies to the array holding indecies where the value of resulting column should be 0 ('recordsWhereValueForResultingColumnShouldBe0')\n",
    "        recordsWhereValueForResultingColumnShouldBe0 = np.append(recordsWhereValueForResultingColumnShouldBe0, indeciesOfThatColBeing0)\n",
    "    # deleting indecies where the values of the similar columns are not all 0s (leave only indecies statistically known as the mode or the most repeated indecies -indicating 0 appeared in all the similar columns-) ...\n",
    "    uniqueIndecies, theirCounts = np.unique(recordsWhereValueForResultingColumnShouldBe0, return_counts=True)\n",
    "    # if the amount of similar columns is x, an index should have x appearances in 'recordsWhereValueForResultingColumnShouldBe0', as indecies appeared there each time it had a value of 0 in any of the x amount of similar columns\n",
    "    modes = uniqueIndecies[theirCounts == len(soSimilarBinaryColumns)]\n",
    "    recordsWhereValueForResultingColumnShouldBe0 = modes\n",
    "    \n",
    "    # Assign the value 1 to the resulting column whenever it should be (using 'recordsWhereValueForResultingColumnShouldBe1' as the reference)\n",
    "    dataframeCopy.loc[recordsWhereValueForResultingColumnShouldBe1, 'resultingColumn'] = 1\n",
    "    # Assign the value 0 to the resulting column whenever it should be (using 'recordsWhereValueForResultingColumnShouldBe0' as the reference)\n",
    "    dataframeCopy.loc[recordsWhereValueForResultingColumnShouldBe0, 'resultingColumn'] = 0\n",
    "    \n",
    "    #Storing only the resulting column (Series) independently in an object: 'resultingSeries'\n",
    "    resultingSeries = dataframeCopy['resultingColumn'].copy()\n",
    "\n",
    "    return resultingSeries\n",
    "    "
   ]
  },
  {
   "cell_type": "markdown",
   "metadata": {},
   "source": [
    "#### B. Unifying Process:"
   ]
  },
  {
   "cell_type": "markdown",
   "metadata": {},
   "source": [
    "##### 1. Columns Telling Whether Exposed to Video Games or Not\n",
    "> - Student has game console? ('hasPS')\n",
    "> - Student plays single player games out of school? ('playsSPGames')\n",
    "> - Student plays co-op games out of school? ('playsCOOP')"
   ]
  },
  {
   "cell_type": "code",
   "execution_count": 107,
   "metadata": {},
   "outputs": [],
   "source": [
    "df['vidGamesExposure'] = unifySoSimilarBinaryColumns(df, ['playsCOOP', 'hasPS', 'playsSPGames'])"
   ]
  },
  {
   "cell_type": "code",
   "execution_count": 108,
   "metadata": {},
   "outputs": [
    {
     "data": {
      "text/plain": [
       "1.0    234107\n",
       "0.0     40704\n",
       "Name: vidGamesExposure, dtype: int64"
      ]
     },
     "execution_count": 108,
     "metadata": {},
     "output_type": "execute_result"
    }
   ],
   "source": [
    "df['vidGamesExposure'].value_counts()"
   ]
  },
  {
   "cell_type": "markdown",
   "metadata": {},
   "source": [
    "<hr>"
   ]
  },
  {
   "cell_type": "markdown",
   "metadata": {},
   "source": [
    "##### 2. Columns Telling Whether Using Technology for Entertainment in General or Not\n",
    "> - Student chats online? ('chatsOnline')\n",
    "> - Student on social networks? ('onFB')\n",
    "> - Student using internet for fun? ('internetFun')\n",
    "> - Student streams music? ('hasMusic')\n",
    "> - Student uploads content? ('uploads')\n",
    "> - Student using ICT for fun? ('ICTForFun')"
   ]
  },
  {
   "cell_type": "code",
   "execution_count": 109,
   "metadata": {},
   "outputs": [],
   "source": [
    "df['usingTechForEntertainment'] = unifySoSimilarBinaryColumns(df, ['chatsOnline', 'onFB', 'internetFun', 'hasMusic', 'uploads', 'ICTForFun'])"
   ]
  },
  {
   "cell_type": "code",
   "execution_count": 110,
   "metadata": {},
   "outputs": [
    {
     "data": {
      "text/plain": [
       "1.0    286491\n",
       "Name: usingTechForEntertainment, dtype: int64"
      ]
     },
     "execution_count": 110,
     "metadata": {},
     "output_type": "execute_result"
    }
   ],
   "source": [
    "df['usingTechForEntertainment'].value_counts()"
   ]
  },
  {
   "cell_type": "markdown",
   "metadata": {},
   "source": [
    "<p><center>End of unifying similar columns.</center></p>\n",
    "<hr>"
   ]
  },
  {
   "cell_type": "markdown",
   "metadata": {},
   "source": [
    "### Storing Wrangled Data in a File"
   ]
  },
  {
   "cell_type": "code",
   "execution_count": 111,
   "metadata": {},
   "outputs": [],
   "source": [
    "df.to_csv('pisa2012_Wrangled.csv')"
   ]
  },
  {
   "cell_type": "markdown",
   "metadata": {},
   "source": [
    "<br>\n",
    "<br>\n",
    "<h1><center>End of wrangling.</center></h1>\n",
    "<hr>"
   ]
  }
 ],
 "metadata": {
  "kernelspec": {
   "display_name": "Python 3",
   "language": "python",
   "name": "python3"
  },
  "language_info": {
   "codemirror_mode": {
    "name": "ipython",
    "version": 3
   },
   "file_extension": ".py",
   "mimetype": "text/x-python",
   "name": "python",
   "nbconvert_exporter": "python",
   "pygments_lexer": "ipython3",
   "version": "3.8.10"
  }
 },
 "nbformat": 4,
 "nbformat_minor": 2
}
